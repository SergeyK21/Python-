{
 "cells": [
  {
   "cell_type": "markdown",
   "metadata": {
    "id": "gNJRMIiwiCNh"
   },
   "source": [
    "## Практика. Модуль 2\n",
    "\n",
    "Давайте обратимся к практическим аспектам, которые мы рассмотрели в этом модуле. Для этого поэтапно реализуем класс Wallet, который представляет собой объекты вида «Кошелёк». В объекте-кошельке будем хранить имя владельца, а также денежные средства в различных валютах.\n",
    "\n",
    "Для начала опишем атрибуты и методы класса:\n",
    "* атрибут owner_name: имя владельца;\n",
    "* атрибут assets типа dict: активы человека в различных валютах.\n",
    "\n",
    "Пример:\n",
    "\n",
    "assets = {'RUB': 0.0, 'USD': 0.0, 'EUR': 0.0}\n",
    "* метод $__init__$: инициализация кошелька;\n",
    "* метод $__float__$: нахождение общей стоимости активов в рублях;\n",
    "* метод $__int__$: количество активов с ненулевой стоимостью;\n",
    "* метод $__bool__$: возвращает True, если **все** активы имеют ненулевой баланс;\n",
    "* метод $__eq__$: возвращает True, если у сравниваемых кошельков self и other одинаковая стоимость активов (в рублях);\n",
    "* метод $__lt__$: возвращает True, если стоимость активов self меньше, чем стоимость активов other (в рублях);\n",
    "* метод $__gt__$: возвращает True, если стоимость активов self больше, чем стоимость активов other (в рублях);\n",
    "* метод $__sub__$: вычитание кортежа вида ('RUB', 100), при котором из актива RUB вычитается 100 единиц;\n",
    "* метод $__add__$: позволяет добавить кортеж вида ('RUB', 100) и тем самым увеличить актив RUB на 100 единиц; второй вариант использования — объединение двух кошельков self и other, при котором новый кошелёк принадлежит владельцу self, а активы суммируются из обоих кошельков;\n",
    "* метод $__iter__$: возвращает итератор списка кортежей, состоящий из активов, упорядоченных по возрастанию стоимости (в рублях);\n",
    "* метод $__getitem__$: возвращает размер актива по ключу вида self['RUB'];\n",
    "* метод $__setitem__$: позволяет установить размер актива путём присваивания вида self['RUB']=100.\n",
    "\n",
    "В ходе реализации этих методов мы ещё раз вернёмся к основам объектно-ориентированного программирования и возможностям Python в рамках парадигмы функционального программирования, а также поработаем с последовательностями и их обработкой."
   ]
  },
  {
   "cell_type": "code",
   "execution_count": 1,
   "metadata": {
    "id": "gzyO2n9Ss8Ar"
   },
   "outputs": [],
   "source": [
    "from functools import reduce\n",
    "\n",
    "class Wallet:\n",
    "    convert = {'RUB': 1, 'USD': 62.1, 'EUR': 69.7}  # по состоянию на 1 января 2020 г.\n",
    "\n",
    "    def __init__(self, owner_name, RUB=0.0, USD=0.0, EUR=0.0):\n",
    "        if isinstance(owner_name, str):\n",
    "            self.owner_name = owner_name\n",
    "        else:\n",
    "            raise ValueError(\"Имя владельца должно быть строковым типом!\")\n",
    "        self.assets = {}\n",
    "        self.assets['RUB'] = RUB\n",
    "        self.assets['USD'] = USD\n",
    "        self.assets['EUR'] = EUR\n",
    "\n",
    "    def __iter__(self):\n",
    "        return iter(self.assets.items())\n",
    "\n",
    "    def __str__(self):\n",
    "        return f'{self.owner_name}: ' \\\n",
    "               f'{self.assets[\"RUB\"]:.2f} {\"RUB\"}, ' \\\n",
    "               f'{self.assets[\"USD\"]:.2f} {\"USD\"}, ' \\\n",
    "               f'{self.assets[\"EUR\"]:.2f} {\"EUR\"}'\n",
    "\n",
    "    def __float__(self):\n",
    "        return reduce(lambda a, x: a + (self.assets[x] * self.convert[x]), self.assets.keys(), 0)\n",
    "\n",
    "    def __int__(self):\n",
    "        return int(reduce(lambda a, x: a + (1 if self.assets[x] else 0), self.assets.keys(), 0))\n",
    "\n",
    "    def __bool__(self):\n",
    "        return int(reduce(lambda a, x: a + (1 if self.assets[x] != 0 else 0), self.assets.keys(), 0)) == 3\n",
    "\n",
    "    def __eq__(self, other):\n",
    "        if isinstance(other, float) or isinstance(other, int):\n",
    "            return reduce(lambda a, x: a + (self.assets[x] * self.convert[x]), self.assets.keys(), 0) == other\n",
    "        elif isinstance(other, Wallet):\n",
    "            return reduce(lambda a, x: a + (self.assets[x] * self.convert[x]), self.assets.keys(), 0) == float(\n",
    "                other)\n",
    "        else:\n",
    "            raise Exception('Ошибка!')\n",
    "\n",
    "    def __lt__(self, other):\n",
    "        if isinstance(other, float) or isinstance(other, int):\n",
    "            return reduce(lambda a, x: a + (self.assets[x] * self.convert[x]), self.assets.keys(), 0) < other\n",
    "        elif isinstance(other, Wallet):\n",
    "            return reduce(lambda a, x: a + (self.assets[x] * self.convert[x]), self.assets.keys(), 0) < float(\n",
    "                other)\n",
    "        else:\n",
    "            raise Exception('Ошибка!')\n",
    "\n",
    "    def __gt__(self, other):\n",
    "        if isinstance(other, float) or isinstance(other, int):\n",
    "            return reduce(lambda a, x: a + (self.assets[x] * self.convert[x]), self.assets.keys(), 0) > other\n",
    "        elif isinstance(other, Wallet):\n",
    "            return reduce(lambda a, x: a + (self.assets[x] * self.convert[x]), self.assets.keys(), 0) > float(\n",
    "                other)\n",
    "        else:\n",
    "            raise Exception('Ошибка!')\n",
    "\n",
    "    def __sub__(self, other):\n",
    "        if isinstance(other, tuple) and len(other) == 2:\n",
    "            if other[0] == 'RUB':\n",
    "                temp = self.assets['RUB'] - other[1]\n",
    "                if temp < 0:\n",
    "                    raise Exception(\"Ошибка!\")\n",
    "                return Wallet(\n",
    "                    self.owner_name,\n",
    "                    RUB=temp,\n",
    "                    USD=self.assets['USD'],\n",
    "                    EUR=self.assets['EUR']\n",
    "                )\n",
    "            elif other[0] == 'USD':\n",
    "                temp = self.assets['USD'] - other[1]\n",
    "                if temp < 0:\n",
    "                    raise Exception(\"Ошибка!\")\n",
    "                return Wallet(\n",
    "                    self.owner_name,\n",
    "                    RUB=self.assets['RUB'],\n",
    "                    USD=temp,\n",
    "                    EUR=self.assets['EUR']\n",
    "                )\n",
    "            elif other[0] == 'EUR':\n",
    "                temp = self.assets['EUR'] - other[1]\n",
    "                if temp < 0:\n",
    "                    raise Exception(\"Ошибка!\")\n",
    "                return Wallet(\n",
    "                    self.owner_name,\n",
    "                    RUB=self.assets['RUB'],\n",
    "                    USD=self.assets['USD'],\n",
    "                    EUR=temp\n",
    "                )\n",
    "            else:\n",
    "                raise Exception('Ошибка!')\n",
    "\n",
    "        elif isinstance(other, Wallet):\n",
    "            return Wallet(\n",
    "                self.owner_name,\n",
    "                RUB=(self.assets['RUB'] - other['RUB']) if (self.assets['RUB'] - other['RUB']) > 0 else 0,\n",
    "                USD=(self.assets['USD'] - other['USD']) if (self.assets['USD'] - other['USD']) > 0 else 0,\n",
    "                EUR=(self.assets['EUR'] - other['EUR']) if (self.assets['EUR'] - other['EUR']) > 0 else 0\n",
    "            )\n",
    "        else:\n",
    "            raise Exception('Ошибка!')\n",
    "\n",
    "    def __add__(self, other):\n",
    "        if isinstance(other, tuple) and len(other) == 2:\n",
    "            if other[0] == 'RUB':\n",
    "                temp = self.assets['RUB'] + other[1]\n",
    "                if temp < 0:\n",
    "                    raise Exception(\"Ошибка!\")\n",
    "                return Wallet(\n",
    "                    self.owner_name,\n",
    "                    RUB=temp,\n",
    "                    USD=self.assets['USD'],\n",
    "                    EUR=self.assets['EUR']\n",
    "                )\n",
    "            elif other[0] == 'USD':\n",
    "                temp = self.assets['USD'] + other[1]\n",
    "                if temp < 0:\n",
    "                    raise Exception(\"Ошибка!\")\n",
    "                return Wallet(\n",
    "                    self.owner_name,\n",
    "                    RUB=self.assets['RUB'],\n",
    "                    USD=temp,\n",
    "                    EUR=self.assets['EUR']\n",
    "                )\n",
    "            elif other[0] == 'EUR':\n",
    "                temp = self.assets['EUR'] + other[1]\n",
    "                if temp < 0:\n",
    "                    raise Exception(\"Ошибка!\")\n",
    "                return Wallet(\n",
    "                    self.owner_name,\n",
    "                    RUB=self.assets['RUB'],\n",
    "                    USD=self.assets['USD'],\n",
    "                    EUR=temp\n",
    "                )\n",
    "            else:\n",
    "                raise Exception('Ошибка!')\n",
    "\n",
    "        elif isinstance(other, Wallet):\n",
    "            return Wallet(\n",
    "                self.owner_name,\n",
    "                RUB=self.assets['RUB'] + other['RUB'],\n",
    "                USD=self.assets['USD'] + other['USD'],\n",
    "                EUR=self.assets['EUR'] + other['EUR']\n",
    "            )\n",
    "        else:\n",
    "            raise Exception('Ошибка!')\n",
    "\n",
    "    def __getitem__(self, key):\n",
    "        if key == 'RUB' or key == 'USD' or key == 'EUR':\n",
    "            return self.assets[key]\n",
    "        else:\n",
    "            raise Exception('Ошибка!')\n",
    "\n",
    "    def __setitem__(self, key, value):\n",
    "        if (key == 'RUB' or key == 'USD' or key == 'EUR') and (isinstance(value, float) or isinstance(value, int)):\n",
    "            self.assets[key] = value\n",
    "        else:\n",
    "            raise Exception('Ошибка!')"
   ]
  },
  {
   "cell_type": "markdown",
   "metadata": {
    "id": "LH0493FfqMoe"
   },
   "source": [
    "## Задание 1. Инициализация\n",
    "\n",
    "Сначала создадим метод инициализации объекта Wallet. В конструкторе проверим, что в аргументе owner_name находится строка, а также атрибуту assets присвоим словарь в соответствии с описанием из начала этого jupyter notebook.\n",
    "\n",
    "Если в аргументе owner_name указана не строковая переменная, то необходимо вызвать исключение ValueError с текстом \"Имя владельца должно быть строковым типом\".\n",
    "\n",
    "Добавьте код в метод $__init__()$ и запустите ячейку ниже."
   ]
  },
  {
   "cell_type": "code",
   "execution_count": 2,
   "metadata": {
    "id": "0Maarqcth73w"
   },
   "outputs": [
    {
     "name": "stdout",
     "output_type": "stream",
     "text": [
      "{'RUB': 50000, 'USD': 250, 'EUR': 900}\n"
     ]
    }
   ],
   "source": [
    "ivan_wallet = Wallet(owner_name=\"Иван Иванов\")\n",
    "petr_wallet = Wallet(owner_name=\"Петр Петров\",\n",
    "                     RUB = 50000,\n",
    "                     USD = 250,\n",
    "                     EUR = 900)\n",
    "alex_wallet = Wallet(owner_name=\"Алексей Алексеев\",\n",
    "                     RUB = 100000,\n",
    "                     USD = 0,\n",
    "                     EUR = 0)\n",
    "print(petr_wallet.assets)"
   ]
  },
  {
   "cell_type": "markdown",
   "metadata": {
    "id": "JnSKPWKz6ZpS"
   },
   "source": [
    "Вывод этой ячейки должен быть:\n",
    "\n",
    "{'RUB': 50000, 'USD': 250, 'EUR': 300}"
   ]
  },
  {
   "cell_type": "code",
   "execution_count": 3,
   "metadata": {
    "id": "70O56MUQ7D1L"
   },
   "outputs": [
    {
     "name": "stdout",
     "output_type": "stream",
     "text": [
      "Имя владельца должно быть строковым типом!\n"
     ]
    }
   ],
   "source": [
    "try:\n",
    "    error_wallet = Wallet(owner_name=[\"Сергей\", \"Сергеев\"],\n",
    "                         RUB = 20000,\n",
    "                         USD = 400,\n",
    "                         EUR = 170)\n",
    "except ValueError as ex:\n",
    "    print(ex)"
   ]
  },
  {
   "cell_type": "markdown",
   "metadata": {
    "id": "1T-iY7ju7XQ5"
   },
   "source": [
    "После запуска ячейки вы должны увидеть исключение ValueError."
   ]
  },
  {
   "cell_type": "markdown",
   "metadata": {
    "id": "zxB2sSs56YiP"
   },
   "source": [
    "## Задание 2. Итераторы\n",
    "\n",
    "Создайте итератор кошелька, который будет возвращать кортежи из двух элементов (актив, размер актива). Для этого воспользуйтесь компактной записью генератора.\n",
    "\n",
    "\n",
    "Добавьте код в метод $__iter__()$ и запустите ячейку ниже."
   ]
  },
  {
   "cell_type": "code",
   "execution_count": 4,
   "metadata": {
    "id": "2shPcmgQYMcE"
   },
   "outputs": [
    {
     "name": "stdout",
     "output_type": "stream",
     "text": [
      "Asset: RUB. Size: 50000\n",
      "Asset: USD. Size: 250\n",
      "Asset: EUR. Size: 900\n"
     ]
    }
   ],
   "source": [
    "for asset, size in petr_wallet:\n",
    "    print(f\"Asset: {asset}. Size: {size}\")"
   ]
  },
  {
   "cell_type": "markdown",
   "metadata": {
    "id": "GIVumF2nYYoV"
   },
   "source": [
    "Вывод ячейки должен быть следующим:\n",
    "\n",
    "Asset: RUB. Size: 50000\n",
    "\n",
    "Asset: USD. Size: 250\n",
    "\n",
    "Asset: EUE. Size: 900"
   ]
  },
  {
   "cell_type": "markdown",
   "metadata": {
    "id": "VYp4W7Y1YpC1"
   },
   "source": [
    "## Задание 3. Преобразование к строкам\n",
    "\n",
    "Реализуйте функцию получения строкового представления объекта-кошелька.\n",
    "\n",
    "\n",
    "Добавьте код в метод $__str__()$ и запустите ячейку ниже."
   ]
  },
  {
   "cell_type": "code",
   "execution_count": 5,
   "metadata": {
    "id": "_gRf8k1gYn_s"
   },
   "outputs": [
    {
     "name": "stdout",
     "output_type": "stream",
     "text": [
      "Петр Петров: 50000.00 RUB, 250.00 USD, 900.00 EUR\n"
     ]
    }
   ],
   "source": [
    "print(str(petr_wallet))"
   ]
  },
  {
   "cell_type": "markdown",
   "metadata": {
    "id": "KH9DEytkZH_k"
   },
   "source": [
    "Вывод ячейки должен быть следующим:\n",
    "\n",
    "Петр Петров: 50000 RUB, 250 USD, 900 EUR"
   ]
  },
  {
   "cell_type": "markdown",
   "metadata": {
    "id": "TnAx8FA4ZX66"
   },
   "source": [
    "## Задание 4. Преобразование к числам с плавающей точкой\n",
    "\n",
    "Теперь преобразуем наш объект-кошелёк в число с плавающей точкой. Для этого нам необходимо найти общую стоимость активов, конвертированных в рубли. Курс конвертации хранится в переменной convert класса Wallet.\n",
    "\n",
    "\n",
    "\n",
    "Добавьте код в метод $__float__()$ и запустите ячейку ниже."
   ]
  },
  {
   "cell_type": "code",
   "execution_count": 6,
   "metadata": {
    "id": "AjfLFQrSbeHV"
   },
   "outputs": [
    {
     "name": "stdout",
     "output_type": "stream",
     "text": [
      "128255.0\n"
     ]
    }
   ],
   "source": [
    "print(float(petr_wallet))"
   ]
  },
  {
   "cell_type": "markdown",
   "metadata": {
    "id": "QgLl42_mbsJO"
   },
   "source": [
    "Вывод ячейки должен быть: 128255.0"
   ]
  },
  {
   "cell_type": "markdown",
   "metadata": {
    "id": "kvDtWbOkWlQW"
   },
   "source": [
    "## Задание 5. Преобразование к целым числам\n",
    "\n",
    "Для преобразования объекта-кошелька к целым числам найдём количество активов с ненулевым объёмом средств на кошельке.\n",
    "\n",
    "\n",
    "\n",
    "Добавьте код в метод $__int__()$ и запустите ячейку ниже."
   ]
  },
  {
   "cell_type": "code",
   "execution_count": 7,
   "metadata": {
    "id": "iQMdIIEVbqcp"
   },
   "outputs": [
    {
     "name": "stdout",
     "output_type": "stream",
     "text": [
      "1\n"
     ]
    }
   ],
   "source": [
    "print(int(alex_wallet))"
   ]
  },
  {
   "cell_type": "markdown",
   "metadata": {
    "id": "V-Tjmac4XBrr"
   },
   "source": [
    "Вывод ячейки должен быть: 1"
   ]
  },
  {
   "cell_type": "markdown",
   "metadata": {
    "id": "07A696wDXHpt"
   },
   "source": [
    "## Задание 6. Преобразование к булевым значениям\n",
    "\n",
    "Теперь преобразуем объект-кошелёк к булевым значениям True и False. Будем возвращать True, если все активы в кошельке имеют ненулевой объём.\n",
    "\n",
    "\n",
    "\n",
    "Добавьте код в метод $__bool__()$ и запустите ячейку ниже."
   ]
  },
  {
   "cell_type": "code",
   "execution_count": 8,
   "metadata": {
    "id": "Au7xZbs7XF9w"
   },
   "outputs": [
    {
     "name": "stdout",
     "output_type": "stream",
     "text": [
      "True\n",
      "False\n"
     ]
    }
   ],
   "source": [
    "print(bool(petr_wallet))\n",
    "print(bool(alex_wallet))"
   ]
  },
  {
   "cell_type": "markdown",
   "metadata": {
    "id": "jcP0p-3pYDpB"
   },
   "source": [
    "Вывод ячейки должен быть:\n",
    "\n",
    "True\n",
    "\n",
    "False"
   ]
  },
  {
   "cell_type": "markdown",
   "metadata": {
    "id": "4O8YZIGPYJH9"
   },
   "source": [
    "## Задание 7. Сравнение кошельков\n",
    "\n",
    "Чтобы сравнить кошельки, необходимо сравнить количество денежных средств в них. Мы уже создали функцию, которая позволяет вычислить стоимость всех активов в рублях — воспользуемся ей!\n",
    "\n",
    "\n",
    "Добавьте код в методы $__eq__()$, $__lt__()$ и $__gt__()$ и запустите ячейку ниже."
   ]
  },
  {
   "cell_type": "code",
   "execution_count": 9,
   "metadata": {
    "id": "UHDz-ecfYG1-"
   },
   "outputs": [
    {
     "name": "stdout",
     "output_type": "stream",
     "text": [
      "False\n",
      "True\n"
     ]
    }
   ],
   "source": [
    "print(petr_wallet < alex_wallet)\n",
    "print(petr_wallet == Wallet(\"undefined user\", RUB=128255.0))"
   ]
  },
  {
   "cell_type": "markdown",
   "metadata": {
    "id": "r-19xjM2Z3XQ"
   },
   "source": [
    "Вывод ячейки должен быть:\n",
    "\n",
    "False\n",
    "\n",
    "True"
   ]
  },
  {
   "cell_type": "markdown",
   "metadata": {
    "id": "GNe_3WOaZ8yY"
   },
   "source": [
    "## Задание 8. Расходы\n",
    "\n",
    "Теперь реализуем простой интерфейс пользования нашим кошельком и научимся тратить с него деньги. Чтобы вывести из кошелька актив определённого объёма, вычтем из объекта-кошелька кортеж (актив, размер актива).\n",
    "\n",
    "Если размера актива недостаточно, необходимо вывести исключение ValueError с пояснением \"Недостаточно средств\".\n",
    "\n",
    "\n",
    "\n",
    "\n",
    "Добавьте код в метод $__sub__()$ и запустите ячейку ниже."
   ]
  },
  {
   "cell_type": "code",
   "execution_count": 10,
   "metadata": {
    "id": "I4GAU5fNZ77x"
   },
   "outputs": [
    {
     "name": "stdout",
     "output_type": "stream",
     "text": [
      "Петр Петров: 50000.00 RUB, 200.00 USD, 900.00 EUR\n"
     ]
    }
   ],
   "source": [
    "petr_wallet = petr_wallet - ('USD', 50)\n",
    "print(str(petr_wallet))"
   ]
  },
  {
   "cell_type": "markdown",
   "metadata": {
    "id": "uHs3ZkrTa_IJ"
   },
   "source": [
    "Вывод ячейки должен быть:\n",
    "\n",
    "Петр Петров: 50000 RUB, 250 USD, 900 EUR\n",
    "\n",
    "\n",
    "А при запуске следующей ячейки мы должны получить ошибку:"
   ]
  },
  {
   "cell_type": "code",
   "execution_count": 11,
   "metadata": {
    "id": "-u6v3Vspa-ew"
   },
   "outputs": [
    {
     "name": "stdout",
     "output_type": "stream",
     "text": [
      "Ошибка!\n"
     ]
    }
   ],
   "source": [
    "try:\n",
    "    alex_wallet = alex_wallet - ('USD', 50)\n",
    "except Exception as ex:\n",
    "    print(ex)"
   ]
  },
  {
   "cell_type": "markdown",
   "metadata": {
    "id": "iIyFNUoVbMDj"
   },
   "source": [
    "## Задание 9. Доходы\n",
    "\n",
    "Чтобы кошелёк не опустел, его нужно пополнять. Определим сложение в двух видах:\n",
    "1. Сложение с кортежем (актив, размер актива). Действует по принципу добавления размера актива к той сумме, которая уже есть в кошельке.\n",
    "2. Объединение кошельков. Все активы правого слагаемого добавим на счёт левого кошелька.\n",
    "\n",
    "\n",
    "\n",
    "\n",
    "Добавьте код в метод $__add__()$ и запустите ячейку ниже."
   ]
  },
  {
   "cell_type": "code",
   "execution_count": 12,
   "metadata": {
    "id": "T-4YuHAebQbe"
   },
   "outputs": [
    {
     "name": "stdout",
     "output_type": "stream",
     "text": [
      "Алексей Алексеев: 100000.00 RUB, 0.00 USD, 100.00 EUR\n",
      "Петр Петров: 150000.00 RUB, 200.00 USD, 1000.00 EUR\n"
     ]
    }
   ],
   "source": [
    "alex_wallet = alex_wallet + ('EUR', 100)\n",
    "petr_wallet = petr_wallet + alex_wallet\n",
    "\n",
    "print(alex_wallet)\n",
    "print(petr_wallet)"
   ]
  },
  {
   "cell_type": "markdown",
   "metadata": {
    "id": "XwwP9QXScILV"
   },
   "source": [
    "Вывод ячейки должен быть:\n",
    "\n",
    "Алексей Алексеев: 100000 RUB, 0 USD, 100 EUR\n",
    "\n",
    "Петр Петров: 150000 RUB, 200 USD, 1000 EUR"
   ]
  },
  {
   "cell_type": "markdown",
   "metadata": {
    "id": "c1HTw3tDcwQy"
   },
   "source": [
    "## Задание 10. Быстрый доступ\n",
    "\n",
    "Осталось сделать только одну вещь: настроить быстрый доступ для получения и присваивания размеров активов. Мы хотим пользоваться кошельком как объектом типа «словарь». Реализуйте функции, чтобы вывод ячейки совпадал с описанием ниже.\n",
    "\n",
    "\n",
    "\n",
    "Добавьте код в методы $__getitem__()$ и $__setitem__()$ и запустите ячейку ниже."
   ]
  },
  {
   "cell_type": "code",
   "execution_count": 13,
   "metadata": {
    "id": "RthpA90HdOqx"
   },
   "outputs": [
    {
     "name": "stdout",
     "output_type": "stream",
     "text": [
      "1000\n"
     ]
    }
   ],
   "source": [
    "print(petr_wallet['EUR'])"
   ]
  },
  {
   "cell_type": "markdown",
   "metadata": {
    "id": "IoPCDneOdU6z"
   },
   "source": [
    "Вывод ячейки должен быть: 1000"
   ]
  },
  {
   "cell_type": "code",
   "execution_count": 14,
   "metadata": {
    "id": "mbnIRSVwdY2B"
   },
   "outputs": [
    {
     "name": "stdout",
     "output_type": "stream",
     "text": [
      "500\n"
     ]
    }
   ],
   "source": [
    "alex_wallet['USD'] = 500\n",
    "print(alex_wallet['USD'])"
   ]
  },
  {
   "cell_type": "markdown",
   "metadata": {
    "id": "F__Lwlk8dg5A"
   },
   "source": [
    "Вывод ячейки должен быть: 500"
   ]
  },
  {
   "cell_type": "code",
   "execution_count": null,
   "metadata": {
    "id": "gX4lV4A9dkNG"
   },
   "outputs": [],
   "source": []
  }
 ],
 "metadata": {
  "colab": {
   "provenance": []
  },
  "kernelspec": {
   "display_name": "Python 3 (ipykernel)",
   "language": "python",
   "name": "python3"
  },
  "language_info": {
   "codemirror_mode": {
    "name": "ipython",
    "version": 3
   },
   "file_extension": ".py",
   "mimetype": "text/x-python",
   "name": "python",
   "nbconvert_exporter": "python",
   "pygments_lexer": "ipython3",
   "version": "3.9.7"
  }
 },
 "nbformat": 4,
 "nbformat_minor": 1
}
